{
 "cells": [
  {
   "cell_type": "code",
   "execution_count": 5,
   "id": "7b133160",
   "metadata": {},
   "outputs": [],
   "source": [
    "import torch\n",
    "import torch.nn as nn\n",
    "import torch.nn.functional as F"
   ]
  },
  {
   "cell_type": "code",
   "execution_count": 66,
   "id": "b450caa0",
   "metadata": {},
   "outputs": [],
   "source": [
    "class Net(nn.Module):\n",
    "    def __init__(self):\n",
    "        super().__init__()\n",
    "        self.conv1 = nn.Conv2d(in_channels=3,       # picture size\n",
    "                               out_channels=5,      # KernelSize in tf.js\n",
    "                               kernel_size=3,       # filters in tf.js\n",
    "                               bias=False)\n",
    "        self.pool = nn.MaxPool2d(kernel_size=(2,2), \n",
    "                                 stride=(2, 2))\n",
    "        self.conv2 = nn.Conv2d(in_channels=3,\n",
    "                               out_channels=5,\n",
    "                               kernel_size=5,\n",
    "                               bias=False)\n",
    "        \n",
    "        self.fc1 = nn.Linear(5 * 5 * 3, 10)\n",
    "        \n",
    "    def forward(self, x):\n",
    "        x = self.pool(F.relu(self.conv1(x)))\n",
    "        x = self.pool(F.relu(self.conv2(x)))\n",
    "        x = torch.flatten(x, 1) # flatten all dimensions except batch\n",
    "        x = F.softmax(self.fc1(x))\n",
    "        return x\n",
    "\n",
    "\n",
    "net = Net()"
   ]
  },
  {
   "cell_type": "code",
   "execution_count": 67,
   "id": "042bf873",
   "metadata": {
    "scrolled": false
   },
   "outputs": [
    {
     "data": {
      "text/plain": [
       "torch.Size([10, 75])"
      ]
     },
     "execution_count": 67,
     "metadata": {},
     "output_type": "execute_result"
    }
   ],
   "source": [
    "net.state_dict()['fc1.weight'].shape"
   ]
  },
  {
   "cell_type": "code",
   "execution_count": 69,
   "id": "8268bedb",
   "metadata": {},
   "outputs": [
    {
     "data": {
      "text/plain": [
       "0.38963139120095125"
      ]
     },
     "execution_count": 69,
     "metadata": {},
     "output_type": "execute_result"
    }
   ],
   "source": [
    "128**2/42050"
   ]
  },
  {
   "cell_type": "code",
   "execution_count": null,
   "id": "d6bad501",
   "metadata": {},
   "outputs": [],
   "source": []
  }
 ],
 "metadata": {
  "kernelspec": {
   "display_name": "Python 3 (ipykernel)",
   "language": "python",
   "name": "python3"
  },
  "language_info": {
   "codemirror_mode": {
    "name": "ipython",
    "version": 3
   },
   "file_extension": ".py",
   "mimetype": "text/x-python",
   "name": "python",
   "nbconvert_exporter": "python",
   "pygments_lexer": "ipython3",
   "version": "3.9.12"
  }
 },
 "nbformat": 4,
 "nbformat_minor": 5
}
