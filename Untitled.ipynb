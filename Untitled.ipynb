{
 "cells": [
  {
   "cell_type": "code",
   "execution_count": 1,
   "id": "7ec8c23a",
   "metadata": {},
   "outputs": [],
   "source": [
    "import torch\n",
    "import torch.nn as nn\n",
    "import torch.nn.functional as F"
   ]
  },
  {
   "cell_type": "code",
   "execution_count": 2,
   "id": "7b12300a",
   "metadata": {},
   "outputs": [],
   "source": [
    "class Net(nn.Module):\n",
    "    def __init__(self):\n",
    "        super().__init__()\n",
    "        self.conv1 = nn.Conv2d(in_channels=3,       # picture size\n",
    "                               out_channels=5,      # KernelSize in tf.js\n",
    "                               kernel_size=3,       # filters in tf.js\n",
    "                               bias=False)\n",
    "        self.pool = nn.MaxPool2d(kernel_size=(2,2), \n",
    "                                 stride=(2, 2))\n",
    "        self.conv2 = nn.Conv2d(in_channels=3,\n",
    "                               out_channels=5,\n",
    "                               kernel_size=5,\n",
    "                               bias=False)\n",
    "        \n",
    "        # self.fc1 = nn.Linear(5 * 5 * 3, 10)\n",
    "        \n",
    "    def forward(self, x):\n",
    "        x = self.pool(F.relu(self.conv1(x)))\n",
    "        x = self.pool(F.relu(self.conv2(x)))\n",
    "        x = torch.flatten(x, 1) # flatten all dimensions except batch\n",
    "        # x = F.softmax(self.fc1(x))\n",
    "        return x\n",
    "\n",
    "\n",
    "net = Net()"
   ]
  },
  {
   "cell_type": "code",
   "execution_count": 3,
   "id": "c5dc47a4",
   "metadata": {
    "scrolled": false
   },
   "outputs": [
    {
     "data": {
      "text/plain": [
       "torch.Size([10, 75])"
      ]
     },
     "execution_count": 3,
     "metadata": {},
     "output_type": "execute_result"
    }
   ],
   "source": [
    "net.state_dict()['fc1.weight'].shape"
   ]
  },
  {
   "cell_type": "code",
   "execution_count": 4,
   "id": "716a98d2",
   "metadata": {},
   "outputs": [
    {
     "data": {
      "text/plain": [
       "41.666666666666664"
      ]
     },
     "execution_count": 4,
     "metadata": {},
     "output_type": "execute_result"
    }
   ],
   "source": [
    "1250/30"
   ]
  },
  {
   "cell_type": "code",
   "execution_count": 5,
   "id": "dee3e879",
   "metadata": {},
   "outputs": [
    {
     "data": {
      "text/plain": [
       "5400"
      ]
     },
     "execution_count": 5,
     "metadata": {},
     "output_type": "execute_result"
    }
   ],
   "source": [
    "30*30*2*3"
   ]
  },
  {
   "cell_type": "code",
   "execution_count": null,
   "id": "725d7c9d",
   "metadata": {},
   "outputs": [],
   "source": []
  }
 ],
 "metadata": {
  "kernelspec": {
   "display_name": "Python 3.9.12 ('base')",
   "language": "python",
   "name": "python3"
  },
  "language_info": {
   "codemirror_mode": {
    "name": "ipython",
    "version": 3
   },
   "file_extension": ".py",
   "mimetype": "text/x-python",
   "name": "python",
   "nbconvert_exporter": "python",
   "pygments_lexer": "ipython3",
   "version": "3.9.12"
  },
  "vscode": {
   "interpreter": {
    "hash": "5f1b901f5ef336371c4da605f62eabd2b49932aa18e426666bd71ae90942cd54"
   }
  }
 },
 "nbformat": 4,
 "nbformat_minor": 5
}
